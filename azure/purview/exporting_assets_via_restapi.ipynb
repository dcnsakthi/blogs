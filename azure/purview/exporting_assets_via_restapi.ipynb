{
 "cells": [
  {
   "cell_type": "code",
   "execution_count": null,
   "metadata": {},
   "outputs": [],
   "source": [
    "# Exporting Data Assets using REST API in Python - Notebook\n",
    "\n",
    "from azure.purview.catalog import PurviewCatalogClient\n",
    "from azure.identity import ClientSecretCredential \n",
    "from azure.core.exceptions import HttpResponseError\n",
    "import pandas as pd\n",
    "from pandas.io.json import json_normalize\n",
    "\n",
    "keywords = \"*\"\n",
    "export_csv_path = \"purview_search_export.csv\"\n",
    "\n",
    "tenant_id = \"<<please update the Microsoft Purview tenant ID here>>\"\n",
    "client_id = \"<<please provide the updated Service Principal client ID that has access to the Microsoft Purview account>>\"\n",
    "client_secret = \"<<please update the Service Principal client secret for the aforementioned client ID>>\"\n",
    "purview_endpoint = \"https://<<please provide the name of the Microsoft Purview account>>.purview.azure.com/\"\n",
    "purview_scan_endpoint = \"https://<<please provide the name of the Microsoft Purview account>>.scan.purview.azure.com/\"\n",
    "\n",
    "def get_credentials():\n",
    "\tcredentials = ClientSecretCredential(client_id=client_id, client_secret=client_secret, tenant_id=tenant_id)\n",
    "\treturn credentials\n",
    "\n",
    "def get_catalog_client():\n",
    "\tcredentials = get_credentials()\n",
    "\tclient = PurviewCatalogClient(endpoint=purview_endpoint, credential=credentials, logging_enable=True)\n",
    "\treturn client\n",
    "\n",
    "body_input={\n",
    "\t\"keywords\": keywords\n",
    "}\n",
    "\n",
    "try:\n",
    "\tcatalog_client = get_catalog_client()\n",
    "except ValueError as e:\n",
    "\tprint(e)\n",
    "\n",
    "try:\n",
    "\tresponse = catalog_client.discovery.query(search_request=body_input)\n",
    "\tdf = pd.DataFrame(response)\n",
    "\tjdf = pd.json_normalize(df.value)\n",
    "\tjdf.to_csv(export_csv_path, index=False)\n",
    "except HttpResponseError as e:\n",
    "\tprint(e)"
   ]
  }
 ],
 "metadata": {
  "language_info": {
   "name": "python"
  },
  "orig_nbformat": 4
 },
 "nbformat": 4,
 "nbformat_minor": 2
}
